{
 "cells": [
  {
   "cell_type": "markdown",
   "id": "2e9a6703",
   "metadata": {},
   "source": [
    "# Data Science Tools and Ecosystem"
   ]
  },
  {
   "cell_type": "markdown",
   "id": "6e2f64e1",
   "metadata": {},
   "source": [
    "In this notebook, Data Science Tools and Ecosystem are summarized."
   ]
  },
  {
   "cell_type": "markdown",
   "id": "9c6ee967",
   "metadata": {},
   "source": [
    "#### Objectives:"
   ]
  },
  {
   "cell_type": "markdown",
   "id": "9ac56f78",
   "metadata": {},
   "source": [
    "- List popular languages for Data Science\n",
    "- List ommonly used libraries used by Data Scientists \n",
    "- List Data Science tools"
   ]
  },
  {
   "cell_type": "markdown",
   "id": "a6e9ca30",
   "metadata": {},
   "source": [
    "Some of the popular languages that Data Scientists use are:"
   ]
  },
  {
   "cell_type": "markdown",
   "id": "9db51593",
   "metadata": {},
   "source": [
    "1. Python\n",
    "2. R\n",
    "3. Matlab "
   ]
  },
  {
   "cell_type": "markdown",
   "id": "ceaf2dca",
   "metadata": {},
   "source": [
    "Some of the commonly used libraries used by Data Scientists include:"
   ]
  },
  {
   "cell_type": "markdown",
   "id": "13688dd4",
   "metadata": {},
   "source": [
    "1. Pandas\n",
    "2. Numpy\n",
    "3. Matplotlib"
   ]
  },
  {
   "cell_type": "markdown",
   "id": "453b3d13",
   "metadata": {},
   "source": [
    "|Data Science tools|\n",
    "----------------------------\n",
    "|GIT|\n",
    "|Anaconda|\n",
    "|Knime|"
   ]
  },
  {
   "cell_type": "markdown",
   "id": "d6dbbf78",
   "metadata": {},
   "source": [
    "### Below are a few examples of evaluating arithmetic expressions in Python"
   ]
  },
  {
   "cell_type": "code",
   "execution_count": 2,
   "id": "13f3db2c",
   "metadata": {},
   "outputs": [
    {
     "data": {
      "text/plain": [
       "17"
      ]
     },
     "execution_count": 2,
     "metadata": {},
     "output_type": "execute_result"
    }
   ],
   "source": [
    "#This a simple arithmetic expression to mutiply then add integers.\n",
    "(3*4)+5"
   ]
  },
  {
   "cell_type": "code",
   "execution_count": 4,
   "id": "eacc542a",
   "metadata": {},
   "outputs": [
    {
     "data": {
      "text/plain": [
       "3.3333333333333335"
      ]
     },
     "execution_count": 4,
     "metadata": {},
     "output_type": "execute_result"
    }
   ],
   "source": [
    "#This will convert 200 minutes to hours by diving by 60\n",
    "T_min=200\n",
    "T_hour=T_min/60\n",
    "T_hour"
   ]
  },
  {
   "cell_type": "markdown",
   "id": "9fdeca4f",
   "metadata": {},
   "source": [
    "## Author"
   ]
  },
  {
   "cell_type": "markdown",
   "id": "21f179f0",
   "metadata": {},
   "source": [
    "Arushi Jain"
   ]
  },
  {
   "cell_type": "markdown",
   "id": "7381da39",
   "metadata": {},
   "source": [
    "Author"
   ]
  },
  {
   "cell_type": "code",
   "execution_count": null,
   "id": "5a818044",
   "metadata": {},
   "outputs": [],
   "source": []
  }
 ],
 "metadata": {
  "kernelspec": {
   "display_name": "Python 3 (ipykernel)",
   "language": "python",
   "name": "python3"
  },
  "language_info": {
   "codemirror_mode": {
    "name": "ipython",
    "version": 3
   },
   "file_extension": ".py",
   "mimetype": "text/x-python",
   "name": "python",
   "nbconvert_exporter": "python",
   "pygments_lexer": "ipython3",
   "version": "3.9.7"
  }
 },
 "nbformat": 4,
 "nbformat_minor": 5
}
